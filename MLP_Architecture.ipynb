{
 "cells": [
  {
   "cell_type": "markdown",
   "metadata": {
    "colab_type": "text",
    "id": "_AvbdAy4NOhX"
   },
   "source": [
    "# **MLP ARCHITECTURES ON MNIST DATASET**\n",
    "Data Source **[https://www.kaggle.com/c/digit-recognizer/data](https://www.kaggle.com/c/digit-recognizer/data)**\n",
    "\n",
    "This dataset contains hand-written imageswhich are numbered from 0-9. It contains a total of 70k images.\n",
    "\n",
    "\n",
    "![](https://corochann.com/wp-content/uploads/2017/02/mlp-800x367.png)"
   ]
  },
  {
   "cell_type": "markdown",
   "metadata": {
    "colab_type": "text",
    "id": "dfuij3FfQw1s"
   },
   "source": [
    "## ** SNIPPET**\n",
    "1. Converted the Images into vectors using Flattening.\n",
    "2. Applied Different MLP architectures i.e 2, 3 & 5 hidden layer on the dataset. \n",
    "3. Done one-hot encoding on class labels.\n",
    "4. Calculated Train & Valiadation Loss to determine the performance and to ensure best fit.\n",
    "5. Compared performance of each architecture using accuracy.\n",
    "6. Conclusion based on the obtained results."
   ]
  },
  {
   "cell_type": "markdown",
   "metadata": {
    "colab_type": "text",
    "id": "4qNlk6GzSXmC"
   },
   "source": [
    "##  **OBJECTIVE**\n",
    "Making different MLP architectures on MNIST dataset and analyzing the model's on the basis of loss and accuracy."
   ]
  },
  {
   "cell_type": "markdown",
   "metadata": {
    "colab_type": "text",
    "id": "Ew7cmfPu7gLx"
   },
   "source": [
    "## **IMPORTING**"
   ]
  },
  {
   "cell_type": "code",
   "execution_count": 0,
   "metadata": {
    "colab": {},
    "colab_type": "code",
    "collapsed": true,
    "id": "BDqVf-ZEc2sn"
   },
   "outputs": [],
   "source": [
    "from keras.utils import np_utils \n",
    "from keras.datasets import mnist \n",
    "import seaborn as sns\n",
    "from keras.initializers import RandomNormal\n",
    "from keras.models import Sequential \n",
    "from keras.layers import Dense, Activation \n",
    "from keras.layers.normalization import BatchNormalization\n",
    "from prettytable import PrettyTable\n",
    "from keras.layers import Dropout\n",
    "from keras.optimizers import Adam,RMSprop,SGD\n",
    "import matplotlib.pyplot as plt\n",
    "import numpy as np\n",
    "import time"
   ]
  },
  {
   "cell_type": "markdown",
   "metadata": {
    "colab_type": "text",
    "id": "FIkmRvq97mLC"
   },
   "source": [
    "## **LOADING**\n",
    "\n",
    "Loading the MNIST dataset and showing the dimensions of train and test dataset."
   ]
  },
  {
   "cell_type": "code",
   "execution_count": 0,
   "metadata": {
    "colab": {},
    "colab_type": "code",
    "collapsed": true,
    "id": "QGrRH1ikNzua"
   },
   "outputs": [],
   "source": [
    "(x_train, y_train), (x_test, y_test) = mnist.load_data()"
   ]
  },
  {
   "cell_type": "markdown",
   "metadata": {
    "colab_type": "text",
    "id": "EQQpQUpsTU46"
   },
   "source": [
    "Contains the image in 28 X 28 pixels."
   ]
  },
  {
   "cell_type": "code",
   "execution_count": 23,
   "metadata": {
    "colab": {
     "base_uri": "https://localhost:8080/",
     "height": 54
    },
    "colab_type": "code",
    "id": "XRXdKySgc_4Q",
    "outputId": "739f6779-a0ad-43f0-fdc5-d1272df46db0"
   },
   "outputs": [
    {
     "name": "stdout",
     "output_type": "stream",
     "text": [
      "Train Dataset Shape -:  (60000, 28, 28)\n",
      "Test Dataset Shape -:  (10000, 28, 28)\n"
     ]
    }
   ],
   "source": [
    "print(\"Train Dataset Shape -: \",x_train.shape)\n",
    "print(\"Test Dataset Shape -: \",x_test.shape)"
   ]
  },
  {
   "cell_type": "markdown",
   "metadata": {
    "colab_type": "text",
    "id": "dFeugiTS7rmk"
   },
   "source": [
    "## **FLATTENING**"
   ]
  },
  {
   "cell_type": "markdown",
   "metadata": {
    "colab_type": "text",
    "id": "zlr1_PTpTkql"
   },
   "source": [
    "Flattening the images in 784 dimensions so the the data can be provided to the algorithm."
   ]
  },
  {
   "cell_type": "code",
   "execution_count": 0,
   "metadata": {
    "colab": {},
    "colab_type": "code",
    "collapsed": true,
    "id": "I2zloDfwdcoo"
   },
   "outputs": [],
   "source": [
    "x_train = x_train.reshape(60000,784)\n",
    "x_test = x_test.reshape(10000,784)"
   ]
  },
  {
   "cell_type": "code",
   "execution_count": 25,
   "metadata": {
    "colab": {
     "base_uri": "https://localhost:8080/",
     "height": 54
    },
    "colab_type": "code",
    "id": "2jj6aEAfdhOX",
    "outputId": "2b72d3a6-f389-4421-de4c-ce738a68f2f1"
   },
   "outputs": [
    {
     "name": "stdout",
     "output_type": "stream",
     "text": [
      "Train Dataset Shape -:  (60000, 784)\n",
      "Test Dataset Shape -:  (10000, 784)\n"
     ]
    }
   ],
   "source": [
    "print(\"Train Dataset Shape -: \",x_train.shape)\n",
    "print(\"Test Dataset Shape -: \",x_test.shape)"
   ]
  },
  {
   "cell_type": "markdown",
   "metadata": {
    "colab_type": "text",
    "id": "3OQgHpSI8l5D"
   },
   "source": [
    "## **NORMALIZING**"
   ]
  },
  {
   "cell_type": "markdown",
   "metadata": {
    "colab_type": "text",
    "id": "ZbN655cJT10f"
   },
   "source": [
    "The data is not normalized therefore it is not in it's generalized form so the values are divided by 255 as the rgb values lies between 0-255 so we will normalize the data between 0-1. If value has 0 value it means white on the other hand if it has 1 value that means black."
   ]
  },
  {
   "cell_type": "code",
   "execution_count": 26,
   "metadata": {
    "colab": {
     "base_uri": "https://localhost:8080/",
     "height": 128
    },
    "colab_type": "code",
    "id": "tPmqavKCd2bL",
    "outputId": "2147dfda-8a37-44d2-8f4b-0016bcbaa2c2"
   },
   "outputs": [
    {
     "name": "stdout",
     "output_type": "stream",
     "text": [
      "[  0   0   0  49 238 253 253 253 253 253 253 253 253 251  93  82  82  56\n",
      "  39   0   0   0   0   0   0   0   0   0   0   0   0  18 219 253 253 253\n",
      " 253 253 198 182 247 241   0   0   0   0   0   0   0   0   0   0   0   0\n",
      "   0   0   0   0   0   0  80 156 107 253 253 205  11   0  43 154   0   0\n",
      "   0   0   0   0   0   0   0   0   0   0   0   0   0   0   0   0   0  14\n",
      "   1 154 253  90   0   0   0   0   0   0]\n"
     ]
    }
   ],
   "source": [
    "print(x_train[0][200:300])"
   ]
  },
  {
   "cell_type": "code",
   "execution_count": 0,
   "metadata": {
    "colab": {},
    "colab_type": "code",
    "collapsed": true,
    "id": "J3hg4pAvdpCJ"
   },
   "outputs": [],
   "source": [
    "x_train = x_train/255\n",
    "x_test = x_test/255"
   ]
  },
  {
   "cell_type": "code",
   "execution_count": 28,
   "metadata": {
    "colab": {
     "base_uri": "https://localhost:8080/",
     "height": 331
    },
    "colab_type": "code",
    "id": "kj5FJM1geNjU",
    "outputId": "c7cbd481-fd0a-49f1-ba5e-63d8c36cc593"
   },
   "outputs": [
    {
     "name": "stdout",
     "output_type": "stream",
     "text": [
      "[0.         0.         0.         0.19215686 0.93333333 0.99215686\n",
      " 0.99215686 0.99215686 0.99215686 0.99215686 0.99215686 0.99215686\n",
      " 0.99215686 0.98431373 0.36470588 0.32156863 0.32156863 0.21960784\n",
      " 0.15294118 0.         0.         0.         0.         0.\n",
      " 0.         0.         0.         0.         0.         0.\n",
      " 0.         0.07058824 0.85882353 0.99215686 0.99215686 0.99215686\n",
      " 0.99215686 0.99215686 0.77647059 0.71372549 0.96862745 0.94509804\n",
      " 0.         0.         0.         0.         0.         0.\n",
      " 0.         0.         0.         0.         0.         0.\n",
      " 0.         0.         0.         0.         0.         0.\n",
      " 0.31372549 0.61176471 0.41960784 0.99215686 0.99215686 0.80392157\n",
      " 0.04313725 0.         0.16862745 0.60392157 0.         0.\n",
      " 0.         0.         0.         0.         0.         0.\n",
      " 0.         0.         0.         0.         0.         0.\n",
      " 0.         0.         0.         0.         0.         0.05490196\n",
      " 0.00392157 0.60392157 0.99215686 0.35294118 0.         0.\n",
      " 0.         0.         0.         0.        ]\n"
     ]
    }
   ],
   "source": [
    "print(x_train[0][200:300])"
   ]
  },
  {
   "cell_type": "markdown",
   "metadata": {
    "colab_type": "text",
    "id": "Pdnmm8zX8tah"
   },
   "source": [
    "## **ONE-HOT ENCODING**"
   ]
  },
  {
   "cell_type": "markdown",
   "metadata": {
    "colab_type": "text",
    "id": "jB13EklqUi1e"
   },
   "source": [
    "We are converting our class labels into 10 dimensional vectors and we are doing so because of MLP's."
   ]
  },
  {
   "cell_type": "code",
   "execution_count": 29,
   "metadata": {
    "colab": {
     "base_uri": "https://localhost:8080/",
     "height": 54
    },
    "colab_type": "code",
    "id": "w1UbBFPTeWvQ",
    "outputId": "37da7381-6804-49a4-ae0e-cac78e3ba227"
   },
   "outputs": [
    {
     "name": "stdout",
     "output_type": "stream",
     "text": [
      "Class Label -:  5\n",
      "Class Label After Converting to Vector -:  [0. 0. 0. 0. 0. 1. 0. 0. 0. 0.]\n"
     ]
    }
   ],
   "source": [
    "print(\"Class Label -: \",y_train[0])\n",
    "y_train = np_utils.to_categorical(y_train, 10)\n",
    "y_test = np_utils.to_categorical(y_test, 10)\n",
    "print(\"Class Label After Converting to Vector -: \",y_train[0])"
   ]
  },
  {
   "cell_type": "markdown",
   "metadata": {
    "colab_type": "text",
    "id": "lsgeTZgi9EMu"
   },
   "source": [
    "## **FUNCTIONS USED**"
   ]
  },
  {
   "cell_type": "markdown",
   "metadata": {
    "colab_type": "text",
    "id": "dbo0WIh89IFp"
   },
   "source": [
    "This function takes a **History** object which is a dictionary containing the losses and accuracy on validation and train dataset at each epochs. It further calls **plt_dynamic** function with parameters as epochs and losses."
   ]
  },
  {
   "cell_type": "code",
   "execution_count": 0,
   "metadata": {
    "colab": {},
    "colab_type": "code",
    "collapsed": true,
    "id": "S1xg5WzwpmIl"
   },
   "outputs": [],
   "source": [
    "def Plot(err):\n",
    "  fig,ax = plt.subplots(1,1)\n",
    "  ax.set_xlabel('epoch') ; ax.set_ylabel('Crossentropy Loss')\n",
    "  x = list(range(1,25+1))\n",
    "  v_loss = err.history['val_loss']\n",
    "  t_loss = err.history['loss']\n",
    "  plt_dynamic(x, v_loss, t_loss, ax)"
   ]
  },
  {
   "cell_type": "markdown",
   "metadata": {
    "colab_type": "text",
    "id": "va0WUlQS9MBp"
   },
   "source": [
    "This function takes five parameters i.e epochs, losses and color and plots the graph between epochs & Crossentropy Losses."
   ]
  },
  {
   "cell_type": "code",
   "execution_count": 0,
   "metadata": {
    "colab": {},
    "colab_type": "code",
    "collapsed": true,
    "id": "IY_SJ2IdqXDC"
   },
   "outputs": [],
   "source": [
    "def plt_dynamic(x, vy, ty, ax, colors=['b']):\n",
    "    ax.plot(x, vy, 'b', label=\"Validation Loss\")\n",
    "    ax.plot(x, ty, 'r', label=\"Train Loss\")\n",
    "    plt.title(\"EPOCH VS LOSS\" ,fontsize=15, color='black')\n",
    "    plt.legend()\n",
    "    plt.grid()\n",
    "    fig.canvas.draw()"
   ]
  },
  {
   "cell_type": "markdown",
   "metadata": {
    "colab_type": "text",
    "id": "sqJz7PC6fr2k"
   },
   "source": [
    "# **MLP ARCHITECTURES**\n",
    "![](https://1.bp.blogspot.com/-Xal8aZ5MDL8/WlJm8dh1J9I/AAAAAAAAAo4/uCj6tt4T3T0HHUY4uexNuq2BXTUwcChqACLcBGAs/s1600/Multilayer-Perceptron.jpg)\n",
    "\n"
   ]
  },
  {
   "cell_type": "markdown",
   "metadata": {
    "colab_type": "text",
    "id": "E9NliB_YCTVn"
   },
   "source": [
    "### These are the **Optimizers**,** Losses**, **Functions** etc used in the below architectures.\n",
    "\n",
    "1.   Activation Function\n",
    "\n",
    "  *   **Relu**\n",
    "  *   **softmax**\n",
    "2.   **Batch Normalization**\n",
    "3.   **Dropout**\n",
    "4.   Initializer\n",
    "  *  **Random Normal**\n",
    "  *  **he_normal**\n",
    "5.   Optimizer\n",
    "  *  **Adam**\n",
    "6.  Loss\n",
    "  *  **Crossentropy Loss**\n",
    "7. Metrics\n",
    "  *  **Accuracy** "
   ]
  },
  {
   "cell_type": "markdown",
   "metadata": {
    "colab_type": "text",
    "id": "wDikB1Gcf2rO"
   },
   "source": [
    "## ***2 -  Hidden Layer Architecture***\n",
    "\n"
   ]
  },
  {
   "cell_type": "code",
   "execution_count": 67,
   "metadata": {
    "colab": {
     "base_uri": "https://localhost:8080/",
     "height": 313
    },
    "colab_type": "code",
    "id": "X6pIOrdsnYps",
    "outputId": "e760a489-ebe5-409c-b5e0-7b9d4d37ec7e"
   },
   "outputs": [
    {
     "name": "stdout",
     "output_type": "stream",
     "text": [
      "_________________________________________________________________\n",
      "Layer (type)                 Output Shape              Param #   \n",
      "=================================================================\n",
      "dense_22 (Dense)             (None, 512)               401920    \n",
      "_________________________________________________________________\n",
      "dropout_5 (Dropout)          (None, 512)               0         \n",
      "_________________________________________________________________\n",
      "dense_23 (Dense)             (None, 128)               65664     \n",
      "_________________________________________________________________\n",
      "dense_24 (Dense)             (None, 10)                1290      \n",
      "=================================================================\n",
      "Total params: 468,874\n",
      "Trainable params: 468,874\n",
      "Non-trainable params: 0\n",
      "_________________________________________________________________\n",
      "None\n"
     ]
    }
   ],
   "source": [
    "'''\n",
    "  Here we are declaring our model.\n",
    "  Now we will add layers to the network.\n",
    "  Dense got the output as : Output = output = activation(dot(input, kernel) + bias)\n",
    "  Here the activation function used are relu and softmax.\n",
    "  The initializer used is randomnormal.\n",
    "  There are 2 hidden layers -: 784(INPUT LAYER) -> 512(HIDDEN LAYER) -> 128(HIDDEN LAYER) -> 10(OUTPUT LAYER)\n",
    "'''\n",
    "\n",
    "model_relu = Sequential()\n",
    "model_relu.add(Dense(512, activation='relu', input_shape=(784,), kernel_initializer=RandomNormal(mean=0.0, stddev=0.062, seed=None)))\n",
    "model_relu.add(Dropout(0.5))\n",
    "model_relu.add(Dense(128, activation='relu', kernel_initializer=RandomNormal(mean=0.0, stddev=0.125, seed=None)) )\n",
    "model_relu.add(Dense(10, activation='softmax'))\n",
    "\n",
    "print(model_relu.summary())"
   ]
  },
  {
   "cell_type": "code",
   "execution_count": 0,
   "metadata": {
    "colab": {},
    "colab_type": "code",
    "collapsed": true,
    "id": "7KWewH_kuzkb"
   },
   "outputs": [],
   "source": [
    "'''\n",
    "  Configuring the learning process through compile function.\n",
    "  Accept three arguments optimizer, loss & metrics.\n",
    "  After compiling we fit it on training data and pass the epochs and batchsize to it.\n",
    "'''\n",
    "\n",
    "model_relu.compile(optimizer='adam', loss='categorical_crossentropy', metrics=['accuracy'])\n",
    "\n",
    "history = model_relu.fit(x_train, y_train, batch_size=128, epochs=20, verbose=0, validation_data=(x_test, y_test)) "
   ]
  },
  {
   "cell_type": "code",
   "execution_count": 70,
   "metadata": {
    "colab": {
     "base_uri": "https://localhost:8080/",
     "height": 54
    },
    "colab_type": "code",
    "id": "90ED-A6dvSBt",
    "outputId": "dcd98558-5fe0-4022-e219-849b32b328e9"
   },
   "outputs": [
    {
     "name": "stdout",
     "output_type": "stream",
     "text": [
      "Loss: 0.0648279936808568\n",
      "Accuracy: 0.9838\n"
     ]
    }
   ],
   "source": [
    "#  Analyzing the Loss and Accuracy on Test Dataset.\n",
    "\n",
    "score = model_relu.evaluate(x_test, y_test, verbose=0) \n",
    "print('Loss:', score[0]) \n",
    "print('Accuracy:', score[1])"
   ]
  },
  {
   "cell_type": "code",
   "execution_count": 71,
   "metadata": {
    "colab": {
     "base_uri": "https://localhost:8080/",
     "height": 361
    },
    "colab_type": "code",
    "id": "PlGtdhqutPq2",
    "outputId": "8079ac3e-53b5-47ff-ae7a-2d3560f38f27"
   },
   "outputs": [
    {
     "data": {
      "image/png": "[encoded data removed]",
      "text/plain": [
       "<matplotlib.figure.Figure at 0x7faf0b01a668>"
      ]
     },
     "metadata": {
      "tags": []
     },
     "output_type": "display_data"
    }
   ],
   "source": [
    "'''\n",
    "  Basically it is the evaluation of model on overfitting if the train and validation loss had gap or difference between them then we must be sure\n",
    "  that we are overfitting. So must take the accuracy where the train and validation data meets or are close to each other.\n",
    "  In this case at 3rd or 4th epoch it is giving best results further it is overfitting.\n",
    "'''\n",
    "\n",
    "Plot(history)"
   ]
  },
  {
   "cell_type": "markdown",
   "metadata": {
    "colab_type": "text",
    "id": "o37aHFcqxR4t"
   },
   "source": [
    "## ***3 -  Hidden Layer Architecture***"
   ]
  },
  {
   "cell_type": "code",
   "execution_count": 72,
   "metadata": {
    "colab": {
     "base_uri": "https://localhost:8080/",
     "height": 498
    },
    "colab_type": "code",
    "id": "PwJwxcUYxRF0",
    "outputId": "56f928e9-c0e1-40e4-b848-18a9211344f9"
   },
   "outputs": [
    {
     "name": "stdout",
     "output_type": "stream",
     "text": [
      "_________________________________________________________________\n",
      "Layer (type)                 Output Shape              Param #   \n",
      "=================================================================\n",
      "dense_25 (Dense)             (None, 512)               401920    \n",
      "_________________________________________________________________\n",
      "batch_normalization_1 (Batch (None, 512)               2048      \n",
      "_________________________________________________________________\n",
      "dropout_6 (Dropout)          (None, 512)               0         \n",
      "_________________________________________________________________\n",
      "dense_26 (Dense)             (None, 296)               151848    \n",
      "_________________________________________________________________\n",
      "batch_normalization_2 (Batch (None, 296)               1184      \n",
      "_________________________________________________________________\n",
      "dropout_7 (Dropout)          (None, 296)               0         \n",
      "_________________________________________________________________\n",
      "dense_27 (Dense)             (None, 111)               32967     \n",
      "_________________________________________________________________\n",
      "batch_normalization_3 (Batch (None, 111)               444       \n",
      "_________________________________________________________________\n",
      "dense_28 (Dense)             (None, 10)                1120      \n",
      "=================================================================\n",
      "Total params: 591,531\n",
      "Trainable params: 589,693\n",
      "Non-trainable params: 1,838\n",
      "_________________________________________________________________\n",
      "None\n"
     ]
    }
   ],
   "source": [
    "'''\n",
    "  Here we are declaring our model : model_relu = Sequential().\n",
    "  Now we will add layers to the network.\n",
    "  Dense got the output as : Output = output = activation(dot(input, kernel) + bias)\n",
    "  Here the activation function used are relu and softmax.\n",
    "  The initializer used is randomnormal.\n",
    "  Here we had also used BatchNormalization and Dropout.\n",
    "  There are 3 hidden layers -: 784(INPUT LAYER) -> 512(HIDDEN LAYER) -> 296(HIDDEN LAYER) -> 111(HIDDEN LAYER) -> 10(OUTPUT LAYER)\n",
    "'''\n",
    "\n",
    "model_relu = Sequential()\n",
    "model_relu.add(Dense(512, activation='relu', input_shape=(784,), kernel_initializer=RandomNormal(mean=0.0, stddev=0.062, seed=None)))\n",
    "model_relu.add(BatchNormalization())\n",
    "model_relu.add(Dropout(0.4))\n",
    "model_relu.add(Dense(296, activation='relu', kernel_initializer=RandomNormal(mean=0.0, stddev=0.125, seed=None)))\n",
    "model_relu.add(BatchNormalization())\n",
    "model_relu.add(Dropout(0.6))\n",
    "model_relu.add(Dense(111, activation='relu', kernel_initializer=RandomNormal(mean=0.0, stddev=0.125, seed=None)))\n",
    "model_relu.add(BatchNormalization())\n",
    "model_relu.add(Dense(10, activation='softmax'))\n",
    "\n",
    "print(model_relu.summary())"
   ]
  },
  {
   "cell_type": "code",
   "execution_count": 0,
   "metadata": {
    "colab": {},
    "colab_type": "code",
    "collapsed": true,
    "id": "J8eU7StjyAC_"
   },
   "outputs": [],
   "source": [
    "'''\n",
    "  Configuring the learning process through compile function.\n",
    "  Accept three arguments optimizer, loss & metrics.\n",
    "  After compiling we fit it on training data and pass the epochs and batchsize to it.\n",
    "'''\n",
    "\n",
    "model_relu.compile(optimizer='adam', loss='categorical_crossentropy', metrics=['accuracy'])\n",
    "\n",
    "history = model_relu.fit(x_train, y_train, batch_size=100, epochs=30, verbose=0, validation_data=(x_test, y_test))"
   ]
  },
  {
   "cell_type": "code",
   "execution_count": 74,
   "metadata": {
    "colab": {
     "base_uri": "https://localhost:8080/",
     "height": 54
    },
    "colab_type": "code",
    "id": "YZYI8BXcyKWb",
    "outputId": "5664d201-f48b-4bc8-9719-02b3d7e0d0c0"
   },
   "outputs": [
    {
     "name": "stdout",
     "output_type": "stream",
     "text": [
      "Loss: 0.05780171783262922\n",
      "Accuracy: 0.9845\n"
     ]
    }
   ],
   "source": [
    "#  Analyzing the Loss and Accuracy on Test Dataset.\n",
    "\n",
    "score = model_relu.evaluate(x_test, y_test, verbose=0) \n",
    "print('Loss:', score[0]) \n",
    "print('Accuracy:', score[1])"
   ]
  },
  {
   "cell_type": "code",
   "execution_count": 79,
   "metadata": {
    "colab": {
     "base_uri": "https://localhost:8080/",
     "height": 378
    },
    "colab_type": "code",
    "id": "tsnaiLqX0wH7",
    "outputId": "4d434a79-f7b2-42f6-d3e7-5245c50ef080"
   },
   "outputs": [
    {
     "data": {
      "image/png": "[encoded data removed]",
      "text/plain": [
       "<matplotlib.figure.Figure at 0x7faf0a11a358>"
      ]
     },
     "metadata": {
      "tags": []
     },
     "output_type": "display_data"
    }
   ],
   "source": [
    "'''\n",
    "  Basically it is the evaluation of model on overfitting if the train and validation loss had gap or difference between them then we must be sure\n",
    "  that we are overfitting. So must take the accuracy where the train and validation data meets or are close to each other.\n",
    "  In this case between 15th - 20th epoch it is giving best results further it is overfitting.\n",
    "'''\n",
    "\n",
    "Plot(history)"
   ]
  },
  {
   "cell_type": "markdown",
   "metadata": {
    "colab_type": "text",
    "id": "M31MVpC92Zm0"
   },
   "source": [
    "## ***5 -  Hidden Layer Architecture***"
   ]
  },
  {
   "cell_type": "code",
   "execution_count": 111,
   "metadata": {
    "colab": {
     "base_uri": "https://localhost:8080/",
     "height": 645
    },
    "colab_type": "code",
    "id": "oUtJUS-i2e4U",
    "outputId": "e34fe481-e463-49bd-b5ed-630aa81c0cbd"
   },
   "outputs": [
    {
     "name": "stdout",
     "output_type": "stream",
     "text": [
      "_________________________________________________________________\n",
      "Layer (type)                 Output Shape              Param #   \n",
      "=================================================================\n",
      "dense_41 (Dense)             (None, 597)               468645    \n",
      "_________________________________________________________________\n",
      "batch_normalization_14 (Batc (None, 597)               2388      \n",
      "_________________________________________________________________\n",
      "dropout_15 (Dropout)         (None, 597)               0         \n",
      "_________________________________________________________________\n",
      "dense_42 (Dense)             (None, 423)               252954    \n",
      "_________________________________________________________________\n",
      "batch_normalization_15 (Batc (None, 423)               1692      \n",
      "_________________________________________________________________\n",
      "dense_43 (Dense)             (None, 250)               106000    \n",
      "_________________________________________________________________\n",
      "batch_normalization_16 (Batc (None, 250)               1000      \n",
      "_________________________________________________________________\n",
      "dense_44 (Dense)             (None, 120)               30120     \n",
      "_________________________________________________________________\n",
      "batch_normalization_17 (Batc (None, 120)               480       \n",
      "_________________________________________________________________\n",
      "dropout_16 (Dropout)         (None, 120)               0         \n",
      "_________________________________________________________________\n",
      "dense_45 (Dense)             (None, 63)                7623      \n",
      "_________________________________________________________________\n",
      "batch_normalization_18 (Batc (None, 63)                252       \n",
      "_________________________________________________________________\n",
      "dense_46 (Dense)             (None, 10)                640       \n",
      "=================================================================\n",
      "Total params: 871,794\n",
      "Trainable params: 868,888\n",
      "Non-trainable params: 2,906\n",
      "_________________________________________________________________\n",
      "None\n"
     ]
    }
   ],
   "source": [
    "'''\n",
    "  Here we are declaring our model : model_relu = Sequential().\n",
    "  Now we will add layers to the network.\n",
    "  Dense got the output as : Output = output = activation(dot(input, kernel) + bias)\n",
    "  Here the activation function used are relu and softmax.\n",
    "  The initializer used are randomnormal and he_normal.\n",
    "  Here we had also used BatchNormalization and Dropout.\n",
    "  There are 5 hidden layers -: 784(INPUT LAYER) -> 597(HIDDEN LAYER) -> 423(HIDDEN LAYER) -> 250(HIDDEN LAYER) -> 120(HIDDEN LAYER) -> 63(HIDDEN LAYER) -> 10(OUTPUT LAYER)\n",
    "'''\n",
    "\n",
    "model_relu = Sequential()\n",
    "model_relu.add(Dense(597, activation='relu', input_shape=(784,), kernel_initializer=RandomNormal(mean=0.0, stddev=0.062, seed=None)))\n",
    "model_relu.add(BatchNormalization())\n",
    "model_relu.add(Dropout(0.2))\n",
    "model_relu.add(Dense(423, activation='relu', kernel_initializer='he_normal'))\n",
    "model_relu.add(BatchNormalization())\n",
    "model_relu.add(Dense(250, activation='relu', kernel_initializer='he_normal'))\n",
    "model_relu.add(BatchNormalization())\n",
    "model_relu.add(Dense(120, activation='relu', kernel_initializer='he_normal'))\n",
    "model_relu.add(BatchNormalization())\n",
    "model_relu.add(Dropout(0.3))\n",
    "model_relu.add(Dense(63, activation='relu', kernel_initializer='he_normal'))\n",
    "model_relu.add(BatchNormalization())\n",
    "model_relu.add(Dense(10, activation='softmax'))\n",
    "\n",
    "print(model_relu.summary())"
   ]
  },
  {
   "cell_type": "code",
   "execution_count": 0,
   "metadata": {
    "colab": {},
    "colab_type": "code",
    "collapsed": true,
    "id": "zL8H-vND3J4l"
   },
   "outputs": [],
   "source": [
    "'''\n",
    "  Configuring the learning process through compile function.\n",
    "  Accept three arguments optimizer, loss & metrics.\n",
    "  After compiling we fit it on training data and pass the epochs and batchsize to it.\n",
    "'''\n",
    "\n",
    "model_relu.compile(optimizer='adam', loss='categorical_crossentropy', metrics=['accuracy'])\n",
    "\n",
    "history = model_relu.fit(x_train, y_train, batch_size=100, epochs=25, verbose=0, validation_data=(x_test, y_test))"
   ]
  },
  {
   "cell_type": "code",
   "execution_count": 113,
   "metadata": {
    "colab": {
     "base_uri": "https://localhost:8080/",
     "height": 54
    },
    "colab_type": "code",
    "id": "QKMtoR6i3Mz1",
    "outputId": "95c51b7f-f3f5-40b3-bfa0-46574c924b65"
   },
   "outputs": [
    {
     "name": "stdout",
     "output_type": "stream",
     "text": [
      "Loss: 0.06400480240903271\n",
      "Accuracy: 0.9833\n"
     ]
    }
   ],
   "source": [
    "#  Analyzing the Loss and Accuracy on Test Dataset.\n",
    "\n",
    "score = model_relu.evaluate(x_test, y_test, verbose=0) \n",
    "print('Loss:', score[0]) \n",
    "print('Accuracy:', score[1])"
   ]
  },
  {
   "cell_type": "code",
   "execution_count": 103,
   "metadata": {
    "colab": {
     "base_uri": "https://localhost:8080/",
     "height": 378
    },
    "colab_type": "code",
    "id": "zK-VPfka3Vl7",
    "outputId": "170a6b55-0d67-406f-fa4b-542476336486"
   },
   "outputs": [
    {
     "data": {
      "image/png": "[encoded data removed]",
      "text/plain": [
       "<matplotlib.figure.Figure at 0x7faf08beb518>"
      ]
     },
     "metadata": {
      "tags": []
     },
     "output_type": "display_data"
    }
   ],
   "source": [
    "'''\n",
    "  Basically it is the evaluation of model on overfitting if the train and validation loss had gap or difference between them then we must be sure\n",
    "  that we are overfitting. So must take the accuracy where the train and validation data meets or are close to each other.\n",
    "  In this case between 5th - 10th epoch it is giving best results further it is overfitting.\n",
    "'''\n",
    "\n",
    "Plot(history)"
   ]
  },
  {
   "cell_type": "markdown",
   "metadata": {
    "colab_type": "text",
    "id": "bGZ4uexO7IgU"
   },
   "source": [
    "# ***CONCLUSION***"
   ]
  },
  {
   "cell_type": "code",
   "execution_count": 110,
   "metadata": {
    "colab": {
     "base_uri": "https://localhost:8080/",
     "height": 146
    },
    "colab_type": "code",
    "id": "bFkeSnwhD8Mg",
    "outputId": "c70b32c8-90d2-458e-efd6-873a21d7b601"
   },
   "outputs": [
    {
     "name": "stdout",
     "output_type": "stream",
     "text": [
      "+----------------+--------+----------+\n",
      "| Hidden_Layers  | Losses | Accuracy |\n",
      "+----------------+--------+----------+\n",
      "| 2-Hidden_Layer | 0.0648 |  0.9838  |\n",
      "| 3-Hidden_Layer | 0.0578 |  0.9845  |\n",
      "| 2-Hidden_Layer | 0.0674 |  0.9842  |\n",
      "+----------------+--------+----------+\n"
     ]
    }
   ],
   "source": [
    "x = PrettyTable()\n",
    "x.field_names = [\"Hidden_Layers\", \"Losses\", \"Accuracy\"]\n",
    "x.add_row([\"2-Hidden_Layer\",0.0648,0.9838])\n",
    "x.add_row([\"3-Hidden_Layer\",0.0578,0.9845])\n",
    "x.add_row([\"2-Hidden_Layer\",0.0640,0.9833])\n",
    "print(x)"
   ]
  },
  {
   "cell_type": "markdown",
   "metadata": {
    "colab_type": "text",
    "id": "HULbe10dHclv"
   },
   "source": [
    "\n",
    "\n",
    "*   From all the above architectures the one with 3 hidden layers had performed the best among three with an accuracy of 0.9845 and a loss of 0.0578.\n",
    "*   We can't say that the conclusion is final as the applied optimizers, layers, batch_sizes etc are best to my knowledge but there are many methods  which may find a better solution."
   ]
  }
 ],
 "metadata": {
  "colab": {
   "name": "Untitled4.ipynb",
   "provenance": [],
   "version": "0.3.2"
  },
  "kernelspec": {
   "display_name": "Python 3",
   "language": "python",
   "name": "python3"
  },
  "language_info": {
   "codemirror_mode": {
    "name": "ipython",
    "version": 3
   },
   "file_extension": ".py",
   "mimetype": "text/x-python",
   "name": "python",
   "nbconvert_exporter": "python",
   "pygments_lexer": "ipython3",
   "version": "3.6.3"
  }
 },
 "nbformat": 4,
 "nbformat_minor": 1
}
